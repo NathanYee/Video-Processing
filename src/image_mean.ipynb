{
 "cells": [
  {
   "cell_type": "markdown",
   "metadata": {},
   "source": [
    "# Training Mean\n",
    "\n",
    "This notebook calculates the mean (by color channel) of the training images. This value put in the keras-frcnn config.py file for network training and testing."
   ]
  },
  {
   "cell_type": "code",
   "execution_count": 1,
   "metadata": {
    "ExecuteTime": {
     "end_time": "2017-07-28T21:20:23.990986Z",
     "start_time": "2017-07-28T21:20:22.865121Z"
    },
    "collapsed": true
   },
   "outputs": [],
   "source": [
    "import os\n",
    "import CONSTANTS as c\n",
    "import IMAGEUTILS as im\n",
    "import XMLUTILS as xu\n",
    "import numpy as np"
   ]
  },
  {
   "cell_type": "code",
   "execution_count": 2,
   "metadata": {
    "ExecuteTime": {
     "end_time": "2017-07-28T21:20:24.175428Z",
     "start_time": "2017-07-28T21:20:24.051828Z"
    },
    "collapsed": true
   },
   "outputs": [],
   "source": [
    "class MeanFinder():\n",
    "    \"\"\"\n",
    "    calculates the mean (by color channel) of the specifed directories.\n",
    "    This value put in the keras-frcnn config.py file for network training\n",
    "    and testing. \n",
    "    \"\"\"\n",
    "    \n",
    "    def __init__(self, allowed_dirs):\n",
    "        self.allowed_dirs = allowed_dirs # only include if from these dirs\n",
    "        \n",
    "        \n",
    "    def clear_DS(self, file, filepath):\n",
    "        \"\"\"\n",
    "        clears the .DS_Store files that OSX Finder automatically creates\n",
    "        \n",
    "        :param file: the name of the file\n",
    "        :type  file: string\n",
    "        :param filepath: the full filepath of the file\n",
    "        :type  filepath: string\n",
    "        \"\"\"\n",
    "        if file == '.DS_Store':\n",
    "            os.unlink(filepath)\n",
    "        \n",
    "        \n",
    "    def process_annotation(self, annotation, img_filepath):\n",
    "        \"\"\"\n",
    "        computes the mean of the image at img_filepath if the image\n",
    "        contains objects\n",
    "        \n",
    "        :param annotation: a pascal VOC XML annotation\n",
    "        :type  annotation: Element\n",
    "\n",
    "        :param img_filepath: the filepath of the image on training machine\n",
    "        :type  img_filepath: string\n",
    "        \"\"\"\n",
    "        if len(annotation.findall('object')) > 0:\n",
    "            return np.mean(im.imread(img_filepath), axis=(0,1))\n",
    "        \n",
    "            \n",
    "    def file_standards(self, file, filepath):\n",
    "        \"\"\"\n",
    "        checks to make sure that annotation should be included\n",
    "        \n",
    "        The file must be an xml file\n",
    "        The filepath must not be from xml_preds\n",
    "        One of the allowed directory names must be in the filepath\n",
    "        \n",
    "        :param file: the name of the file\n",
    "        :type  file: string\n",
    "        :param filepath: the full filepath of the file\n",
    "        :type  filepath: string\n",
    "        \n",
    "        :returns: whether or not the file/filepath should be included\n",
    "        :rtype  : bool\n",
    "        \"\"\"\n",
    "        is_xml   = bool(file[-4:] == c.XML_EXT)\n",
    "        not_pred = bool('xml_preds' not in filepath)\n",
    "        allowed_dir = any([dir_ in filepath for dir_ in self.allowed_dirs])\n",
    "        return (all([is_xml, not_pred, allowed_dir]))\n",
    "        \n",
    "        \n",
    "    def format_filepath(self, filepath):\n",
    "        \"\"\"\n",
    "        change from xml file to img file\n",
    "        \n",
    "        :returns: the formatted filepath\n",
    "        :rtype  : string\n",
    "        \"\"\"\n",
    "        return filepath.replace('xmls', 'imgs').replace(c.XML_EXT, c.IMG_EXT)\n",
    "        \n",
    "        \n",
    "    def process_files(self):\n",
    "        \"\"\"\n",
    "        walk through all files and create a list of means\n",
    "        \n",
    "        :returns: the mean of the images\n",
    "        :rtype  : ndarray\n",
    "        \"\"\"\n",
    "        means = []\n",
    "        #iterate through all files\n",
    "        for root, dirs, files in os.walk(c.BASE_DIR):\n",
    "            for file in sorted(files):\n",
    "                filepath = os.path.join(root, file)\n",
    "\n",
    "                # only allow images in the standardized format that have been annotated\n",
    "                if self.file_standards(file, filepath):\n",
    "                    annotation = xu.open_xml_file(filepath)\n",
    "                    img_filepath = self.format_filepath(filepath)\n",
    "                    means.append(self.process_annotation(annotation, img_filepath))\n",
    "                    \n",
    "        means = [mean for mean in means if mean is not None]\n",
    "        return(np.mean(means, axis=(0)))"
   ]
  },
  {
   "cell_type": "code",
   "execution_count": 3,
   "metadata": {
    "ExecuteTime": {
     "end_time": "2017-07-28T21:23:03.392699Z",
     "start_time": "2017-07-28T21:20:25.988025Z"
    }
   },
   "outputs": [
    {
     "name": "stdout",
     "output_type": "stream",
     "text": [
      "Train mean: [ 102.82855653  126.34588601  104.67462882]\n"
     ]
    }
   ],
   "source": [
    "train_mean = MeanFinder(c.TRAIN_VID_KEYS)\n",
    "print(\"Train mean: \" + str(train_mean.process_files()))"
   ]
  },
  {
   "cell_type": "code",
   "execution_count": null,
   "metadata": {
    "collapsed": true
   },
   "outputs": [],
   "source": []
  }
 ],
 "metadata": {
  "kernelspec": {
   "display_name": "Environment (conda_video-processing)",
   "language": "python",
   "name": "conda_video-processing"
  },
  "language_info": {
   "codemirror_mode": {
    "name": "ipython",
    "version": 3
   },
   "file_extension": ".py",
   "mimetype": "text/x-python",
   "name": "python",
   "nbconvert_exporter": "python",
   "pygments_lexer": "ipython3",
   "version": "3.6.1"
  }
 },
 "nbformat": 4,
 "nbformat_minor": 2
}
