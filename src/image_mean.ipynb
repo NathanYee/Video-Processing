{
 "cells": [
  {
   "cell_type": "code",
   "execution_count": 4,
   "metadata": {
    "ExecuteTime": {
     "end_time": "2017-07-14T22:26:05.611472Z",
     "start_time": "2017-07-14T22:26:05.607690Z"
    },
    "collapsed": true
   },
   "outputs": [],
   "source": [
    "import os\n",
    "import CONSTANTS as c\n",
    "import IMAGEUTILS as im\n",
    "import XMLUTILS as xu\n",
    "import numpy as np"
   ]
  },
  {
   "cell_type": "code",
   "execution_count": 2,
   "metadata": {
    "ExecuteTime": {
     "end_time": "2017-07-14T22:25:52.454024Z",
     "start_time": "2017-07-14T22:25:52.446446Z"
    },
    "collapsed": true
   },
   "outputs": [],
   "source": [
    "def process_annotation(annotation, img_filepath):\n",
    "    if len(annotation.findall('object')) > 0:\n",
    "        return np.mean(im.imread(img_filepath), axis=(0,1))"
   ]
  },
  {
   "cell_type": "code",
   "execution_count": 6,
   "metadata": {
    "ExecuteTime": {
     "end_time": "2017-07-14T22:28:05.789323Z",
     "start_time": "2017-07-14T22:26:24.178194Z"
    }
   },
   "outputs": [],
   "source": [
    "means = []\n",
    "#iterate through all files\n",
    "for root, dirs, files in os.walk(c.BASE_DIR):\n",
    "    for file in sorted(files):\n",
    "        filepath = root + '/' + file\n",
    "\n",
    "        # check that it is an image file created by ffmpeg and not already processed\n",
    "        if file[0] == 'D' and file[-4:] == c.XML_EXT:\n",
    "            annotation = xu.open_xml_file(filepath)\n",
    "            img_filepath = filepath.replace('xmls', 'imgs').replace(c.XML_EXT, c.IMG_EXT)\n",
    "            means.append(process_annotation(annotation, img_filepath))"
   ]
  },
  {
   "cell_type": "code",
   "execution_count": 9,
   "metadata": {
    "ExecuteTime": {
     "end_time": "2017-07-14T22:29:27.971026Z",
     "start_time": "2017-07-14T22:29:27.962115Z"
    }
   },
   "outputs": [
    {
     "name": "stderr",
     "output_type": "stream",
     "text": [
      "/Users/nyee/anaconda3/lib/python3.6/site-packages/ipykernel_launcher.py:1: FutureWarning: comparison to `None` will result in an elementwise object comparison in the future.\n",
      "  \"\"\"Entry point for launching an IPython kernel.\n"
     ]
    }
   ],
   "source": [
    "means = [mean for mean in means if mean != None]"
   ]
  },
  {
   "cell_type": "code",
   "execution_count": 10,
   "metadata": {
    "ExecuteTime": {
     "end_time": "2017-07-14T22:29:41.462955Z",
     "start_time": "2017-07-14T22:29:41.456578Z"
    }
   },
   "outputs": [
    {
     "data": {
      "text/plain": [
       "array([  98.01419754,  119.33957464,  100.32134206])"
      ]
     },
     "execution_count": 10,
     "metadata": {},
     "output_type": "execute_result"
    }
   ],
   "source": [
    "np.mean(means, axis=(0))"
   ]
  },
  {
   "cell_type": "code",
   "execution_count": null,
   "metadata": {
    "collapsed": true
   },
   "outputs": [],
   "source": []
  }
 ],
 "metadata": {
  "kernelspec": {
   "display_name": "Python 3",
   "language": "python",
   "name": "python3"
  },
  "language_info": {
   "codemirror_mode": {
    "name": "ipython",
    "version": 3
   },
   "file_extension": ".py",
   "mimetype": "text/x-python",
   "name": "python",
   "nbconvert_exporter": "python",
   "pygments_lexer": "ipython3",
   "version": "3.6.1"
  }
 },
 "nbformat": 4,
 "nbformat_minor": 2
}
