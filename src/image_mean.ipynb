{
 "cells": [
  {
   "cell_type": "code",
   "execution_count": 1,
   "metadata": {
    "ExecuteTime": {
     "end_time": "2017-07-19T20:00:55.644718Z",
     "start_time": "2017-07-19T20:00:54.749386Z"
    },
    "collapsed": true
   },
   "outputs": [],
   "source": [
    "import os\n",
    "import CONSTANTS as c\n",
    "import IMAGEUTILS as im\n",
    "import XMLUTILS as xu\n",
    "import numpy as np"
   ]
  },
  {
   "cell_type": "code",
   "execution_count": 2,
   "metadata": {
    "ExecuteTime": {
     "end_time": "2017-07-19T20:00:56.213884Z",
     "start_time": "2017-07-19T20:00:56.208224Z"
    },
    "collapsed": true
   },
   "outputs": [],
   "source": [
    "def process_annotation(annotation, img_filepath):\n",
    "    if len(annotation.findall('object')) > 0:\n",
    "        return np.mean(im.imread(img_filepath), axis=(0,1))"
   ]
  },
  {
   "cell_type": "code",
   "execution_count": 4,
   "metadata": {
    "ExecuteTime": {
     "end_time": "2017-07-19T20:03:29.902618Z",
     "start_time": "2017-07-19T20:01:30.220527Z"
    }
   },
   "outputs": [],
   "source": [
    "means = []\n",
    "#iterate through all files\n",
    "for root, dirs, files in os.walk(c.BASE_DIR):\n",
    "    for file in sorted(files):\n",
    "        filepath = root + '/' + file\n",
    "\n",
    "        # only allow images in the standardized format that have been annotated\n",
    "        if file[0] == 'D' and file[-4:] == c.XML_EXT and 'xml_preds' not in filepath:\n",
    "            annotation = xu.open_xml_file(filepath)\n",
    "            img_filepath = filepath.replace('xmls', 'imgs').replace(c.XML_EXT, c.IMG_EXT)\n",
    "            means.append(process_annotation(annotation, img_filepath))"
   ]
  },
  {
   "cell_type": "code",
   "execution_count": 5,
   "metadata": {
    "ExecuteTime": {
     "end_time": "2017-07-19T20:03:31.995774Z",
     "start_time": "2017-07-19T20:03:31.991484Z"
    },
    "collapsed": true
   },
   "outputs": [],
   "source": [
    "means = [mean for mean in means if mean is not None]"
   ]
  },
  {
   "cell_type": "code",
   "execution_count": 6,
   "metadata": {
    "ExecuteTime": {
     "end_time": "2017-07-19T20:03:32.777791Z",
     "start_time": "2017-07-19T20:03:32.760249Z"
    }
   },
   "outputs": [
    {
     "data": {
      "text/plain": [
       "array([  99.47443859,  121.87747586,  101.44344873])"
      ]
     },
     "execution_count": 6,
     "metadata": {},
     "output_type": "execute_result"
    }
   ],
   "source": [
    "np.mean(means, axis=(0))"
   ]
  },
  {
   "cell_type": "code",
   "execution_count": null,
   "metadata": {
    "collapsed": true
   },
   "outputs": [],
   "source": []
  }
 ],
 "metadata": {
  "kernelspec": {
   "display_name": "Environment (conda_video-processing)",
   "language": "python",
   "name": "conda_video-processing"
  },
  "language_info": {
   "codemirror_mode": {
    "name": "ipython",
    "version": 3
   },
   "file_extension": ".py",
   "mimetype": "text/x-python",
   "name": "python",
   "nbconvert_exporter": "python",
   "pygments_lexer": "ipython3",
   "version": "3.6.1"
  }
 },
 "nbformat": 4,
 "nbformat_minor": 2
}
