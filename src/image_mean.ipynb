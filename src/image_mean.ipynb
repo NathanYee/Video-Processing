{
 "cells": [
  {
   "cell_type": "code",
   "execution_count": 1,
   "metadata": {
    "ExecuteTime": {
     "end_time": "2017-07-18T15:47:52.679458Z",
     "start_time": "2017-07-18T15:47:51.782322Z"
    },
    "collapsed": true
   },
   "outputs": [],
   "source": [
    "import os\n",
    "import CONSTANTS as c\n",
    "import IMAGEUTILS as im\n",
    "import XMLUTILS as xu\n",
    "import numpy as np"
   ]
  },
  {
   "cell_type": "code",
   "execution_count": 2,
   "metadata": {
    "ExecuteTime": {
     "end_time": "2017-07-18T15:47:53.405526Z",
     "start_time": "2017-07-18T15:47:53.399735Z"
    },
    "collapsed": true
   },
   "outputs": [],
   "source": [
    "def process_annotation(annotation, img_filepath):\n",
    "    if len(annotation.findall('object')) > 0:\n",
    "        return np.mean(im.imread(img_filepath), axis=(0,1))"
   ]
  },
  {
   "cell_type": "code",
   "execution_count": 3,
   "metadata": {
    "ExecuteTime": {
     "end_time": "2017-07-18T15:49:02.762958Z",
     "start_time": "2017-07-18T15:47:54.916258Z"
    },
    "collapsed": true
   },
   "outputs": [],
   "source": [
    "means = []\n",
    "#iterate through all files\n",
    "for root, dirs, files in os.walk(c.BASE_DIR):\n",
    "    for file in sorted(files):\n",
    "        filepath = root + '/' + file\n",
    "\n",
    "        # only allow images in the standardized format that have been annotated\n",
    "        if file[0] == 'D' and file[-4:] == c.XML_EXT:\n",
    "            annotation = xu.open_xml_file(filepath)\n",
    "            img_filepath = filepath.replace('xmls', 'imgs').replace(c.XML_EXT, c.IMG_EXT)\n",
    "            means.append(process_annotation(annotation, img_filepath))"
   ]
  },
  {
   "cell_type": "code",
   "execution_count": 4,
   "metadata": {
    "ExecuteTime": {
     "end_time": "2017-07-18T15:49:17.733765Z",
     "start_time": "2017-07-18T15:49:17.729847Z"
    }
   },
   "outputs": [],
   "source": [
    "means = [mean for mean in means if mean is not None]"
   ]
  },
  {
   "cell_type": "code",
   "execution_count": 5,
   "metadata": {
    "ExecuteTime": {
     "end_time": "2017-07-18T15:49:19.498577Z",
     "start_time": "2017-07-18T15:49:19.480236Z"
    }
   },
   "outputs": [
    {
     "data": {
      "text/plain": [
       "array([  98.01419754,  119.33957464,  100.32134206])"
      ]
     },
     "execution_count": 5,
     "metadata": {},
     "output_type": "execute_result"
    }
   ],
   "source": [
    "np.mean(means, axis=(0))"
   ]
  },
  {
   "cell_type": "code",
   "execution_count": null,
   "metadata": {
    "collapsed": true
   },
   "outputs": [],
   "source": []
  }
 ],
 "metadata": {
  "kernelspec": {
   "display_name": "Environment (conda_video-processing)",
   "language": "python",
   "name": "conda_video-processing"
  },
  "language_info": {
   "codemirror_mode": {
    "name": "ipython",
    "version": 3
   },
   "file_extension": ".py",
   "mimetype": "text/x-python",
   "name": "python",
   "nbconvert_exporter": "python",
   "pygments_lexer": "ipython3",
   "version": "3.6.1"
  }
 },
 "nbformat": 4,
 "nbformat_minor": 2
}
