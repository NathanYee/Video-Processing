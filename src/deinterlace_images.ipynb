{
 "cells": [
  {
   "cell_type": "code",
   "execution_count": 2,
   "metadata": {
    "ExecuteTime": {
     "end_time": "2017-07-13T22:51:46.418586Z",
     "start_time": "2017-07-13T22:51:46.193735Z"
    },
    "collapsed": true
   },
   "outputs": [],
   "source": [
    "import os\n",
    "import CONSTANTS as c\n",
    "from scipy.misc import imread, imsave\n",
    "import pickle\n",
    "from time import sleep"
   ]
  },
  {
   "cell_type": "code",
   "execution_count": 1,
   "metadata": {
    "ExecuteTime": {
     "end_time": "2017-07-13T22:51:43.635102Z",
     "start_time": "2017-07-13T22:51:43.626678Z"
    },
    "collapsed": true
   },
   "outputs": [],
   "source": [
    "def de_interlace(img):\n",
    "    \"\"\"\n",
    "    de-interlaces an image\n",
    "    \n",
    "    Args:\n",
    "        image (ndarray): the image data\n",
    "        \n",
    "    Returns:\n",
    "        de_interlaced_image (ndarray): the de-interlaced image\n",
    "    \"\"\"\n",
    "    # de-interlace the image by taking every other row and every other column\n",
    "    de_interlaced_img = img[::2, 1::2]\n",
    "    \n",
    "    return de_interlaced_img"
   ]
  },
  {
   "cell_type": "code",
   "execution_count": 3,
   "metadata": {
    "ExecuteTime": {
     "end_time": "2017-07-13T22:51:47.904545Z",
     "start_time": "2017-07-13T22:51:47.897079Z"
    },
    "collapsed": true
   },
   "outputs": [],
   "source": [
    "def process_file(filepath):\n",
    "    \"\"\"\n",
    "    Reads in filename, de-interlaces, and writes new image\n",
    "    \n",
    "    Args:\n",
    "        filename (string): the filename of the image to be operated on\n",
    "        \n",
    "    Returns:\n",
    "        bool: True or False\n",
    "    \"\"\"\n",
    "    img = imread(filepath)\n",
    "    if img.shape != (1080, 1920, 3):\n",
    "        return True\n",
    "    de_interlaced_img = de_interlace(img)\n",
    "    imsave(filepath, de_interlaced_img)"
   ]
  },
  {
   "cell_type": "code",
   "execution_count": 5,
   "metadata": {
    "ExecuteTime": {
     "end_time": "2017-07-13T22:52:10.783840Z",
     "start_time": "2017-07-13T22:52:10.779254Z"
    },
    "collapsed": true
   },
   "outputs": [],
   "source": [
    "try:\n",
    "    with open('done.pkl', \"rb\") as f:\n",
    "        processed_files = pickle.load(f)\n",
    "except:\n",
    "    processed_files = set()"
   ]
  },
  {
   "cell_type": "code",
   "execution_count": null,
   "metadata": {
    "ExecuteTime": {
     "start_time": "2017-07-13T22:52:11.866Z"
    }
   },
   "outputs": [
    {
     "name": "stdout",
     "output_type": "stream",
     "text": [
      "/Volumes/nyee/datasets/frcnn_data/D0232_04HD/imgs/D0232_04HD_00-00-00.png: done\n",
      "/Volumes/nyee/datasets/frcnn_data/D0232_04HD/imgs/D0232_04HD_00-00-15.png: done\n",
      "/Volumes/nyee/datasets/frcnn_data/D0232_04HD/imgs/D0232_04HD_00-00-10.png: done\n",
      "/Volumes/nyee/datasets/frcnn_data/D0232_04HD/imgs/D0232_04HD_00-00-20.png: done\n",
      "/Volumes/nyee/datasets/frcnn_data/D0232_04HD/imgs/D0232_04HD_00-00-05.png: done\n",
      "/Volumes/nyee/datasets/frcnn_data/D0673_04HD/imgs/D0673_04HD_00-00-35.png: done\n",
      "/Volumes/nyee/datasets/frcnn_data/D0673_04HD/imgs/D0673_04HD_00-00-05.png: done\n",
      "/Volumes/nyee/datasets/frcnn_data/D0673_04HD/imgs/D0673_04HD_00-00-15.png: done\n",
      "/Volumes/nyee/datasets/frcnn_data/D0673_04HD/imgs/D0673_04HD_00-00-30.png: done\n",
      "/Volumes/nyee/datasets/frcnn_data/D0673_04HD/imgs/D0673_04HD_00-00-25.png: done\n",
      "/Volumes/nyee/datasets/frcnn_data/D0673_04HD/imgs/D0673_04HD_00-00-20.png: done\n",
      "/Volumes/nyee/datasets/frcnn_data/D0673_04HD/imgs/D0673_04HD_00-00-00.png: done\n",
      "/Volumes/nyee/datasets/frcnn_data/D0673_04HD/imgs/D0673_04HD_00-00-10.png: done\n",
      "/Volumes/nyee/datasets/frcnn_data/D0443_05HD/imgs/D0443_05HD_00-00-25.png: done\n",
      "/Volumes/nyee/datasets/frcnn_data/D0443_05HD/imgs/D0443_05HD_00-00-00.png: done\n",
      "/Volumes/nyee/datasets/frcnn_data/D0443_05HD/imgs/D0443_05HD_00-00-20.png: done\n",
      "/Volumes/nyee/datasets/frcnn_data/D0443_05HD/imgs/D0443_05HD_00-00-05.png: done\n",
      "/Volumes/nyee/datasets/frcnn_data/D0443_05HD/imgs/D0443_05HD_00-00-10.png: done\n",
      "/Volumes/nyee/datasets/frcnn_data/D0443_05HD/imgs/D0443_05HD_00-00-30.png: done\n",
      "/Volumes/nyee/datasets/frcnn_data/D0443_05HD/imgs/D0443_05HD_00-00-40.png: done\n",
      "/Volumes/nyee/datasets/frcnn_data/D0443_05HD/imgs/D0443_05HD_00-00-35.png: done\n",
      "/Volumes/nyee/datasets/frcnn_data/D0443_05HD/imgs/D0443_05HD_00-00-15.png: done\n",
      "/Volumes/nyee/datasets/frcnn_data/D0772_09HD/imgs/D0772_09HD_00-00-00.png: done\n",
      "/Volumes/nyee/datasets/frcnn_data/D0772_09HD/imgs/D0772_09HD_00-00-05.png: done\n",
      "/Volumes/nyee/datasets/frcnn_data/D0772_09HD/imgs/D0772_09HD_00-00-35.png: done\n",
      "/Volumes/nyee/datasets/frcnn_data/D0772_09HD/imgs/D0772_09HD_00-00-15.png: done\n",
      "/Volumes/nyee/datasets/frcnn_data/D0772_09HD/imgs/D0772_09HD_00-00-25.png: done\n",
      "/Volumes/nyee/datasets/frcnn_data/D0772_09HD/imgs/D0772_09HD_00-00-10.png: done\n",
      "/Volumes/nyee/datasets/frcnn_data/D0772_09HD/imgs/D0772_09HD_00-00-20.png: done\n",
      "/Volumes/nyee/datasets/frcnn_data/D0772_09HD/imgs/D0772_09HD_00-00-30.png: done\n",
      "/Volumes/nyee/datasets/frcnn_data/D008_03HD/imgs/D008_03HD_00-00-10.png: done\n",
      "/Volumes/nyee/datasets/frcnn_data/D008_03HD/imgs/D008_03HD_00-00-20.png: done\n",
      "/Volumes/nyee/datasets/frcnn_data/D008_03HD/imgs/D008_03HD_00-00-00.png: done\n",
      "/Volumes/nyee/datasets/frcnn_data/D008_03HD/imgs/D008_03HD_00-00-15.png: done\n",
      "/Volumes/nyee/datasets/frcnn_data/D008_03HD/imgs/D008_03HD_00-00-05.png: done\n",
      "/Volumes/nyee/datasets/frcnn_data/D0442_06HD/imgs/D0442_06HD_00-00-15.png: done\n",
      "/Volumes/nyee/datasets/frcnn_data/D0442_06HD/imgs/D0442_06HD_00-00-05.png: done\n",
      "/Volumes/nyee/datasets/frcnn_data/D0442_06HD/imgs/D0442_06HD_00-00-20.png: done\n",
      "/Volumes/nyee/datasets/frcnn_data/D0442_06HD/imgs/D0442_06HD_00-00-10.png: done\n",
      "/Volumes/nyee/datasets/frcnn_data/D0442_06HD/imgs/D0442_06HD_00-00-00.png: done\n"
     ]
    }
   ],
   "source": [
    "while True:\n",
    "    #iterate through all files\n",
    "    for root, dirs, files in os.walk(c.BASE_DIR):\n",
    "        for file in files:\n",
    "            filepath = root + '/' + file\n",
    "\n",
    "            # as a bounus, remove all the automatically created .DS_Store's\n",
    "            if file == '.DS_Store':\n",
    "                os.unlink(filepath)\n",
    "\n",
    "            # check that it is an image file created by ffmpeg and not already processed\n",
    "            if file[0] == 'D' and file[-4:] == c.IMG_EXT and filepath not in processed_files:\n",
    "                process_file(filepath)\n",
    "                processed_files.add(filepath)\n",
    "\n",
    "                print(filepath + \": done\")\n",
    "\n",
    "        # pickle the process_files set\n",
    "        with open('done.pkl', \"wb\") as f:\n",
    "            pickle.dump(processed_files, f)\n",
    "    sleep(30)"
   ]
  },
  {
   "cell_type": "code",
   "execution_count": null,
   "metadata": {
    "ExecuteTime": {
     "end_time": "2017-07-13T18:41:10.177869Z",
     "start_time": "2017-07-13T18:39:31.563Z"
    },
    "collapsed": true
   },
   "outputs": [],
   "source": []
  }
 ],
 "metadata": {
  "kernelspec": {
   "display_name": "Environment (conda_python2-opencv)",
   "language": "python",
   "name": "conda_python2-opencv"
  },
  "language_info": {
   "codemirror_mode": {
    "name": "ipython",
    "version": 2
   },
   "file_extension": ".py",
   "mimetype": "text/x-python",
   "name": "python",
   "nbconvert_exporter": "python",
   "pygments_lexer": "ipython2",
   "version": "2.7.13"
  }
 },
 "nbformat": 4,
 "nbformat_minor": 2
}
