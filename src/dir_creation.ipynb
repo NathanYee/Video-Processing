{
 "cells": [
  {
   "cell_type": "markdown",
   "metadata": {},
   "source": [
    "# dir_creation\n",
    "\n",
    "Creates the directories of frcnn_data if they do not exist"
   ]
  },
  {
   "cell_type": "code",
   "execution_count": 1,
   "metadata": {
    "ExecuteTime": {
     "end_time": "2017-08-03T00:02:44.781218Z",
     "start_time": "2017-08-03T00:02:44.771088Z"
    },
    "collapsed": true
   },
   "outputs": [],
   "source": [
    "import os\n",
    "import CONSTANTS as c"
   ]
  },
  {
   "cell_type": "code",
   "execution_count": 2,
   "metadata": {
    "ExecuteTime": {
     "end_time": "2017-08-03T00:02:44.790261Z",
     "start_time": "2017-08-03T00:02:44.784275Z"
    },
    "collapsed": true
   },
   "outputs": [],
   "source": [
    "def make_dir(directory):\n",
    "    if not os.path.isdir(directory):\n",
    "        os.mkdir(directory)"
   ]
  },
  {
   "cell_type": "code",
   "execution_count": 3,
   "metadata": {
    "ExecuteTime": {
     "end_time": "2017-08-03T00:02:44.885933Z",
     "start_time": "2017-08-03T00:02:44.793007Z"
    },
    "collapsed": true
   },
   "outputs": [],
   "source": [
    "for VID in c.VID_KEYS:\n",
    "    for DIR in c.DIR_KEYS:\n",
    "        directory = c.DIR_DICT[VID][DIR]\n",
    "        make_dir(directory)"
   ]
  },
  {
   "cell_type": "code",
   "execution_count": 4,
   "metadata": {
    "ExecuteTime": {
     "end_time": "2017-08-03T00:02:44.902733Z",
     "start_time": "2017-08-03T00:02:44.887595Z"
    },
    "collapsed": true
   },
   "outputs": [],
   "source": [
    "make_dir(c.CROP_DIR)\n",
    "\n",
    "for CROP_DIR in c.CROP_CLASS_DIRS:\n",
    "    make_dir(CROP_DIR)"
   ]
  },
  {
   "cell_type": "code",
   "execution_count": null,
   "metadata": {
    "collapsed": true
   },
   "outputs": [],
   "source": []
  }
 ],
 "metadata": {
  "kernelspec": {
   "display_name": "Environment (conda_video-processing)",
   "language": "python",
   "name": "conda_video-processing"
  },
  "language_info": {
   "codemirror_mode": {
    "name": "ipython",
    "version": 3
   },
   "file_extension": ".py",
   "mimetype": "text/x-python",
   "name": "python",
   "nbconvert_exporter": "python",
   "pygments_lexer": "ipython3",
   "version": "3.6.1"
  }
 },
 "nbformat": 4,
 "nbformat_minor": 2
}
