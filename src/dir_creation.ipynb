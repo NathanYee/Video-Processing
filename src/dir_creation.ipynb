{
 "cells": [
  {
   "cell_type": "markdown",
   "metadata": {},
   "source": [
    "# dir_creation\n",
    "\n",
    "Creates the directories of frcnn_data if they do not exist"
   ]
  },
  {
   "cell_type": "code",
   "execution_count": 4,
   "metadata": {
    "ExecuteTime": {
     "end_time": "2017-07-13T17:02:22.944463Z",
     "start_time": "2017-07-13T17:02:22.939613Z"
    }
   },
   "outputs": [],
   "source": [
    "import os\n",
    "import CONSTANTS as c"
   ]
  },
  {
   "cell_type": "code",
   "execution_count": 6,
   "metadata": {
    "ExecuteTime": {
     "end_time": "2017-07-13T17:04:29.944482Z",
     "start_time": "2017-07-13T17:04:29.845365Z"
    }
   },
   "outputs": [],
   "source": [
    "for VID in c.VID_KEYS:\n",
    "    for DIR in c.DIR_KEYS:\n",
    "        directory = c.DIR_DICT[VID][DIR]\n",
    "        if not os.path.isdir(directory):\n",
    "            os.mkdir(directory)"
   ]
  }
 ],
 "metadata": {
  "kernelspec": {
   "display_name": "Python 3",
   "language": "python",
   "name": "python3"
  },
  "language_info": {
   "codemirror_mode": {
    "name": "ipython",
    "version": 3
   },
   "file_extension": ".py",
   "mimetype": "text/x-python",
   "name": "python",
   "nbconvert_exporter": "python",
   "pygments_lexer": "ipython3",
   "version": "3.6.1"
  }
 },
 "nbformat": 4,
 "nbformat_minor": 2
}
