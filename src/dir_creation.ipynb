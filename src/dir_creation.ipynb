{
 "cells": [
  {
   "cell_type": "markdown",
   "metadata": {},
   "source": [
    "# dir_creation\n",
    "\n",
    "Creates the directories of frcnn_data if they do not exist"
   ]
  },
  {
   "cell_type": "code",
   "execution_count": 1,
   "metadata": {
    "ExecuteTime": {
     "end_time": "2017-07-31T23:25:03.753350Z",
     "start_time": "2017-07-31T23:25:03.742986Z"
    },
    "collapsed": true
   },
   "outputs": [],
   "source": [
    "import os\n",
    "import CONSTANTS as c"
   ]
  },
  {
   "cell_type": "code",
   "execution_count": 2,
   "metadata": {
    "ExecuteTime": {
     "end_time": "2017-07-31T23:25:03.771529Z",
     "start_time": "2017-07-31T23:25:03.756387Z"
    },
    "collapsed": true
   },
   "outputs": [],
   "source": [
    "def make_dir(directory):\n",
    "    if not os.path.isdir(directory):\n",
    "        os.mkdir(directory)"
   ]
  },
  {
   "cell_type": "code",
   "execution_count": 3,
   "metadata": {
    "ExecuteTime": {
     "end_time": "2017-07-31T23:25:03.977925Z",
     "start_time": "2017-07-31T23:25:03.777994Z"
    },
    "collapsed": true
   },
   "outputs": [],
   "source": [
    "for VID in c.VID_KEYS:\n",
    "    for DIR in c.DIR_KEYS:\n",
    "        directory = c.DIR_DICT[VID][DIR]\n",
    "        make_dir(directory)"
   ]
  },
  {
   "cell_type": "code",
   "execution_count": 4,
   "metadata": {
    "ExecuteTime": {
     "end_time": "2017-07-31T23:25:04.013860Z",
     "start_time": "2017-07-31T23:25:03.979716Z"
    }
   },
   "outputs": [],
   "source": [
    "make_dir(c.CROP_DIR)"
   ]
  },
  {
   "cell_type": "code",
   "execution_count": 5,
   "metadata": {
    "ExecuteTime": {
     "end_time": "2017-07-31T23:25:05.608664Z",
     "start_time": "2017-07-31T23:25:04.015793Z"
    }
   },
   "outputs": [],
   "source": [
    "for CROP_DIR in c.CROP_CLASS_DIRS:\n",
    "    make_dir(CROP_DIR)"
   ]
  },
  {
   "cell_type": "code",
   "execution_count": null,
   "metadata": {
    "collapsed": true
   },
   "outputs": [],
   "source": []
  }
 ],
 "metadata": {
  "kernelspec": {
   "display_name": "Environment (conda_video-processing)",
   "language": "python",
   "name": "conda_video-processing"
  },
  "language_info": {
   "codemirror_mode": {
    "name": "ipython",
    "version": 3
   },
   "file_extension": ".py",
   "mimetype": "text/x-python",
   "name": "python",
   "nbconvert_exporter": "python",
   "pygments_lexer": "ipython3",
   "version": "3.6.1"
  }
 },
 "nbformat": 4,
 "nbformat_minor": 2
}
