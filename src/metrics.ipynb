{
 "cells": [
  {
   "cell_type": "markdown",
   "metadata": {},
   "source": [
    "# Metrics\n",
    "\n",
    "This script will evaluate the performance of the model by comparing two directories of Pascal VOC style xml files"
   ]
  },
  {
   "cell_type": "code",
   "execution_count": 10,
   "metadata": {
    "ExecuteTime": {
     "end_time": "2017-07-20T21:36:03.320882Z",
     "start_time": "2017-07-20T21:36:03.239706Z"
    },
    "collapsed": true
   },
   "outputs": [],
   "source": [
    "class Point:\n",
    "    \"\"\" https://stackoverflow.com/questions/40795709/checking-whether-two-rectangles-overlap-in-python-using-two-bottom-left-corners \"\"\"\n",
    "    def __init__(self, xcoord=0, ycoord=0):\n",
    "        self.x = xcoord\n",
    "        self.y = ycoord\n",
    "\n",
    "class Rectangle:\n",
    "    def __init__(self, top_left, bottom_right, species):\n",
    "        self.top_left = top_left\n",
    "        self.bottom_right = bottom_right\n",
    "        self.species = species\n",
    "\n",
    "    def intersects(self, other):\n",
    "        return not (self.bottom_right.x < other.top_left.x or \n",
    "                    self.top_left.x > other.bottom_right.x or \n",
    "                    self.bottom_right.y < other.top_left.y or \n",
    "                    self.top_left.y > other.bottom_right.y)\n",
    "    \n",
    "    def calc_area(self):\n",
    "        return ((self.bottom_right.x-self.top_left.x)*(self.bottom_right.y-self.top_left.y))\n",
    "    \n",
    "    def calc_intersect(self, other):\n",
    "        top_left_intersect     = Point(max(self.top_left.x, other.top_left.x),\n",
    "                                       max(self.top_left.y, other.top_left.y))\n",
    "        bottom_right_intersect = Point(min(self.bottom_right.x, other.bottom_right.x),\n",
    "                                       min(self.bottom_right.y, other.bottom_right.y))\n",
    "        rect_intersect = Rectangle(top_left_intersect, bottom_right_intersect, 'intersect')\n",
    "        return rect_intersect.calc_area()\n",
    "    \n",
    "    def calc_union(self, other):\n",
    "        return self.calc_area() + other.calc_area() - self.calc_intersect(other)\n",
    "    \n",
    "    def calc_iou(self, other):\n",
    "        return self.calc_intersect(other) / self.calc_union(other)\n",
    "    \n",
    "    def same_species(self, other):\n",
    "        return self.species == other.species"
   ]
  },
  {
   "cell_type": "code",
   "execution_count": 14,
   "metadata": {
    "ExecuteTime": {
     "end_time": "2017-07-20T21:36:51.349918Z",
     "start_time": "2017-07-20T21:36:51.345211Z"
    }
   },
   "outputs": [],
   "source": [
    "rect1 = Rectangle(Point(0,0), Point(100,100), 'PENIAGONE_SP_A')\n",
    "rect2 = Rectangle(Point(5,5), Point(120,120), 'PENIAGONE_SP_A')"
   ]
  },
  {
   "cell_type": "code",
   "execution_count": 15,
   "metadata": {
    "ExecuteTime": {
     "end_time": "2017-07-20T21:36:51.469754Z",
     "start_time": "2017-07-20T21:36:51.458952Z"
    }
   },
   "outputs": [
    {
     "name": "stdout",
     "output_type": "stream",
     "text": [
      "Rect1 area: 10000\n",
      "Rect2 area: 13225\n",
      "Intersect : True\n",
      "Union     : 14200\n",
      "IOU       : 0.6355633802816901\n",
      "Species   : True\n"
     ]
    }
   ],
   "source": [
    "print(\"Rect1 area: {}\".format(rect1.calc_area()))\n",
    "print(\"Rect2 area: {}\".format(rect2.calc_area()))\n",
    "print(\"Intersect : {}\".format(rect1.intersects(rect2)))\n",
    "print(\"Union     : {}\".format(rect1.calc_union(rect2)))\n",
    "print(\"IOU       : {}\".format(rect1.calc_iou(rect2)))\n",
    "print(\"Species   : {}\".format(rect1.same_species(rect2)))"
   ]
  },
  {
   "cell_type": "code",
   "execution_count": null,
   "metadata": {
    "collapsed": true
   },
   "outputs": [],
   "source": []
  },
  {
   "cell_type": "code",
   "execution_count": null,
   "metadata": {
    "collapsed": true
   },
   "outputs": [],
   "source": []
  }
 ],
 "metadata": {
  "kernelspec": {
   "display_name": "Environment (conda_video-processing)",
   "language": "python",
   "name": "conda_video-processing"
  },
  "language_info": {
   "codemirror_mode": {
    "name": "ipython",
    "version": 3
   },
   "file_extension": ".py",
   "mimetype": "text/x-python",
   "name": "python",
   "nbconvert_exporter": "python",
   "pygments_lexer": "ipython3",
   "version": "3.6.1"
  }
 },
 "nbformat": 4,
 "nbformat_minor": 2
}
