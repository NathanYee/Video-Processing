{
 "cells": [
  {
   "cell_type": "code",
   "execution_count": null,
   "metadata": {
    "ExecuteTime": {
     "start_time": "2017-07-13T22:55:12.505Z"
    },
    "collapsed": true
   },
   "outputs": [],
   "source": [
    "import CONSTANTS as c\n",
    "import multiprocessing\n",
    "import subprocess\n",
    "import os"
   ]
  },
  {
   "cell_type": "code",
   "execution_count": null,
   "metadata": {
    "ExecuteTime": {
     "start_time": "2017-07-13T22:55:13.287Z"
    },
    "collapsed": true
   },
   "outputs": [],
   "source": [
    "class Extractor():\n",
    "    \n",
    "    def __init__(self, video_name):\n",
    "        \"\"\"\n",
    "        Initialize the extractor\n",
    "        \n",
    "        Args:\n",
    "            video_name (string): name of the video\n",
    "        \"\"\"\n",
    "        self.video_name       = video_name\n",
    "        self.input_video_path = c.DIR_DICT[self.video_name][c.SRC_VID]\n",
    "        self.output_dir       = c.DIR_DICT[self.video_name][c.IMG_DIR]\n",
    "        self.seconds_counter  = 0\n",
    "        self.increment        = 5\n",
    "        self.video_length     = self.get_length()\n",
    "        \n",
    "    def get_length(self):\n",
    "        \"\"\" returns the length of the video found at self.input_video_path \"\"\"\n",
    "        shell_string = \"ffprobe -i {} -show_entries format=duration -v quiet -of csv='p=0'\".format(self.input_video_path)\n",
    "        result = subprocess.Popen(shell_string, stdout=subprocess.PIPE, stderr=subprocess.STDOUT, shell=True)\n",
    "        length = result.communicate()[0]\n",
    "        length = float(length.decode().strip('\\n'))\n",
    "        return length\n",
    "    \n",
    "    def get_timecode(self):\n",
    "        \"\"\" converts self.seconds_counter into hh:mm:ss\"\"\"\n",
    "        m, s = divmod(self.seconds_counter, 60)\n",
    "        h, m = divmod(m, 60)\n",
    "        return (\"%02d:%02d:%02d\" % (h, m, s))\n",
    "    \n",
    "    def extract_img(self, output_path, timecode):\n",
    "        \"\"\"\n",
    "        extracts image from video\n",
    "\n",
    "        Args:\n",
    "            input_video_path  (string): absolute path of the video\n",
    "            output_path       (string): absolute path of the output file\n",
    "            time              (string): time in format hh:mm:ss\n",
    "        \"\"\"\n",
    "        shell_string = 'ffmpeg -ss {} -i {} -frames:v 1 {}'.format(timecode, self.input_video_path, output_path)\n",
    "        subprocess.call(shell_string, shell=True)\n",
    "        \n",
    "    def increment_seconds_counter(self):\n",
    "        \"\"\" increment self.seconds_counter \"\"\"\n",
    "        self.seconds_counter += self.increment\n",
    "        \n",
    "    def process_video(self):\n",
    "        \"\"\" extract all the frames from a video \"\"\"\n",
    "        try:\n",
    "            while self.seconds_counter < self.video_length:\n",
    "                timecode = self.get_timecode()\n",
    "                output_path = \"{}{}_{}{}\".format(self.output_dir,\n",
    "                                                 self.video_name,\n",
    "                                                 timecode.replace(':', '-'),\n",
    "                                                 c.IMG_EXT)\n",
    "\n",
    "                if not os.path.exists(output_path):\n",
    "                    self.extract_img(output_path, timecode)\n",
    "\n",
    "                self.increment_seconds_counter()\n",
    "            return True\n",
    "        except:\n",
    "            return False"
   ]
  },
  {
   "cell_type": "code",
   "execution_count": null,
   "metadata": {
    "ExecuteTime": {
     "start_time": "2017-07-13T22:55:14.090Z"
    },
    "scrolled": false
   },
   "outputs": [],
   "source": [
    "class Manager():\n",
    "    \n",
    "    def __init__(self):\n",
    "        \"\"\" Initialize the manager \"\"\"\n",
    "        pass\n",
    "    \n",
    "    def processes_video(self, video_name):\n",
    "        \"\"\"\n",
    "        processes a video_name\n",
    "        \n",
    "        Args:\n",
    "            video_name (string): the name of the video to be processed\n",
    "        \n",
    "        Returns:\n",
    "            bool: True is success, False is exception\n",
    "        \"\"\"\n",
    "        print(\"Starting: \" + video_name)\n",
    "        extractor = Extractor(video_name)\n",
    "        result = extractor.process_video()\n",
    "        print(\"Finished: \" + video_name)\n",
    "        return result\n",
    "    \n",
    "    def processes_videos(self):\n",
    "        \"\"\" process all videos \"\"\"\n",
    "        pool = multiprocessing.Pool(processes=multiprocessing.cpu_count() - 1)\n",
    "        self.results = pool.map(self.processes_video, c.VID_KEYS)"
   ]
  },
  {
   "cell_type": "code",
   "execution_count": null,
   "metadata": {
    "ExecuteTime": {
     "end_time": "2017-07-13T22:49:13.656444Z",
     "start_time": "2017-07-13T22:49:13.651746Z"
    }
   },
   "outputs": [],
   "source": [
    "manager = Manager()"
   ]
  },
  {
   "cell_type": "code",
   "execution_count": null,
   "metadata": {
    "ExecuteTime": {
     "end_time": "2017-07-13T22:49:32.249838Z",
     "start_time": "2017-07-13T22:49:14.015007Z"
    }
   },
   "outputs": [],
   "source": [
    "manager.processes_videos()"
   ]
  },
  {
   "cell_type": "code",
   "execution_count": null,
   "metadata": {
    "collapsed": true
   },
   "outputs": [],
   "source": []
  }
 ],
 "metadata": {
  "kernelspec": {
   "display_name": "Python 3",
   "language": "python",
   "name": "python3"
  },
  "language_info": {
   "codemirror_mode": {
    "name": "ipython",
    "version": 3
   },
   "file_extension": ".py",
   "mimetype": "text/x-python",
   "name": "python",
   "nbconvert_exporter": "python",
   "pygments_lexer": "ipython3",
   "version": "3.6.1"
  }
 },
 "nbformat": 4,
 "nbformat_minor": 2
}
