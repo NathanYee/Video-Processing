{
 "cells": [
  {
   "cell_type": "code",
   "execution_count": 1,
   "metadata": {
    "ExecuteTime": {
     "end_time": "2017-07-13T17:33:05.133930Z",
     "start_time": "2017-07-13T17:33:05.125671Z"
    },
    "collapsed": true
   },
   "outputs": [],
   "source": [
    "import CONSTANTS as c\n",
    "import subprocess"
   ]
  },
  {
   "cell_type": "code",
   "execution_count": 2,
   "metadata": {
    "ExecuteTime": {
     "end_time": "2017-07-13T17:33:06.067468Z",
     "start_time": "2017-07-13T17:33:06.060232Z"
    },
    "collapsed": true
   },
   "outputs": [],
   "source": [
    "def extract_imgs(input_video_path, output_dir, output_name, x):\n",
    "    \"\"\"\n",
    "    use ffmpeg to extract a frame every x frames from specified video\n",
    "    \n",
    "    Args:\n",
    "        video_path  (string): absolute path of the video\n",
    "        output_dir  (string): directory where output is saved\n",
    "        output_name (string): leading name of output file before frame number\n",
    "        x           (int)   : extract every x'th frame\n",
    "    \"\"\"\n",
    "    fps = 1.0 / x  #convert x to frames per second\n",
    "    shell_string = 'ffmpeg -i {} -vf fps={} {}{}_%04d.png'.format(input_video_path, fps, output_dir, output_name)\n",
    "    subprocess.call(shell_string, shell=True)"
   ]
  },
  {
   "cell_type": "code",
   "execution_count": null,
   "metadata": {
    "ExecuteTime": {
     "start_time": "2017-07-13T17:33:06.833Z"
    },
    "collapsed": true
   },
   "outputs": [],
   "source": [
    "for VID in c.VID_KEYS:\n",
    "    input_video_path = c.DIR_DICT[VID][c.SRC_VID]\n",
    "    output_dir = c.DIR_DICT[VID][c.IMG_DIR]\n",
    "    extract_imgs(input_video_path, output_dir, VID, 10)"
   ]
  },
  {
   "cell_type": "code",
   "execution_count": null,
   "metadata": {
    "collapsed": true
   },
   "outputs": [],
   "source": []
  }
 ],
 "metadata": {
  "kernelspec": {
   "display_name": "Python 3",
   "language": "python",
   "name": "python3"
  },
  "language_info": {
   "codemirror_mode": {
    "name": "ipython",
    "version": 3
   },
   "file_extension": ".py",
   "mimetype": "text/x-python",
   "name": "python",
   "nbconvert_exporter": "python",
   "pygments_lexer": "ipython3",
   "version": "3.6.1"
  }
 },
 "nbformat": 4,
 "nbformat_minor": 2
}
