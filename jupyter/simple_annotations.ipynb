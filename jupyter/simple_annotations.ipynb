{
 "cells": [
  {
   "cell_type": "code",
   "execution_count": 1,
   "metadata": {
    "ExecuteTime": {
     "end_time": "2017-08-03T00:03:03.663273Z",
     "start_time": "2017-08-03T00:03:03.611081Z"
    },
    "collapsed": true
   },
   "outputs": [],
   "source": [
    "import sys, os\n",
    "sys.path.insert(0, os.path.abspath('..'))\n",
    "\n",
    "import tools.CONSTANTS as c\n",
    "import tools.UTILS as u\n",
    "import tools.XMLUTILS as xu"
   ]
  },
  {
   "cell_type": "code",
   "execution_count": 2,
   "metadata": {
    "ExecuteTime": {
     "end_time": "2017-08-03T00:03:04.021487Z",
     "start_time": "2017-08-03T00:03:03.667219Z"
    },
    "collapsed": true
   },
   "outputs": [],
   "source": [
    "class SimpleAnnotator():\n",
    "    \"\"\"\n",
    "    simpleAnnotator will create a new simple annotation text file by\n",
    "    recursively descending though directories starting at base_dir by\n",
    "    processing xml annotations and image filenames\n",
    "    \"\"\"    \n",
    "    \n",
    "    def __init__(self, allowed_dirs, ann_path, base_dir=c.BASE_DIR):\n",
    "        \"\"\"\n",
    "        initialize the SimpleAnnotator\n",
    "        \n",
    "        :param allowed_dirs: the target directories that will be used\n",
    "        :type  allowed_dirs: list of strings\n",
    "        :param ann_path: the path to store newly created simple annotations\n",
    "        :type  ann_path: string\n",
    "        :param base_dir: the base directory to walk\n",
    "        :type  base_dir: string\n",
    "        \"\"\"\n",
    "        self.allowed_dirs = allowed_dirs # only include if from these dirs\n",
    "        self.ann_path = ann_path # path to store simple annotations\n",
    "        self.processed_file = False\n",
    "        self.base_dir = base_dir\n",
    "    \n",
    "    def process_annotation(self, annotation, img_filepath):\n",
    "        \"\"\"\n",
    "        uses an annotation and an img_filepath to append objects to a simple\n",
    "        annotation text file. You can read more about simple annotations\n",
    "        here: https://github.com/yhenon/keras-frcnn\n",
    "        \n",
    "        :param annotation: a pascal VOC XML annotation\n",
    "        :type  annotation: Element\n",
    "\n",
    "        :param img_filepath: the filepath of the image on training machine\n",
    "        :type  img_filepath: string\n",
    "        \"\"\"\n",
    "        for object_ in annotation.findall('object'):\n",
    "            name = ((object_.find('name')).text)\n",
    "            corners = ([int(corner.text) for corner in list(object_.find('bndbox'))])\n",
    "            data = '{},{},{},{},{},{}'.format(img_filepath, corners[0], corners[1], corners[2], corners[3], name)\n",
    "            u.append_to_file(self.ann_path, data)\n",
    "            \n",
    "        \n",
    "    def clear_annotation_path(self):\n",
    "        \"\"\" clear annotation file at self.ann_path \"\"\"\n",
    "        u.remove_file_contents(self.ann_path)\n",
    "            \n",
    "        \n",
    "    def file_standards(self, file, filepath):\n",
    "        \"\"\"\n",
    "        checks to make sure that the file should be processed. In this case:\n",
    "        \n",
    "        The file must be an xml file\n",
    "        The filepath must not be from xml_preds\n",
    "        One of the allowed directory names must be in the filepath\n",
    "        \n",
    "        :param file: the name of the file\n",
    "        :type  file: string\n",
    "        :param filepath: the full filepath of the file\n",
    "        :type  filepath: string\n",
    "        \n",
    "        :returns: whether or not the file/filepath should be included\n",
    "        :rtype  : bool\n",
    "        \"\"\"\n",
    "        is_xml   = bool(file[-4:] == c.XML_EXT)\n",
    "        not_pred = bool('xml_preds' not in filepath)\n",
    "        allowed_dir = any([dir_ in filepath for dir_ in self.allowed_dirs])\n",
    "        return (all([is_xml, not_pred, allowed_dir]))\n",
    "        \n",
    "    \n",
    "    def format_filepath(self, filepath):\n",
    "        \"\"\"\n",
    "        format the filepath for the other computer. We also change make the\n",
    "        change from xml file to img file\n",
    "        \n",
    "        :returns: the formatted filepath\n",
    "        :rtype  : string\n",
    "        \"\"\"\n",
    "        return filepath.replace('Volumes', 'raid').replace('xmls', 'imgs').replace(c.XML_EXT, c.IMG_EXT)\n",
    "        \n",
    "        \n",
    "    def process_files(self):\n",
    "        \"\"\" walk through all files and create simple annotation \"\"\"\n",
    "        # first clear old annotations as we will be replacing them\n",
    "        self.clear_annotation_path()\n",
    "        \n",
    "        for root, dirs, files in os.walk(self.base_dir):\n",
    "            # set self.processed_file to false for user feedback\n",
    "            self.processed_file = False\n",
    "            for file in sorted(files):\n",
    "                filepath = os.path.join(root, file)\n",
    "\n",
    "                # check if file should be included in the simple_annotations\n",
    "                if self.file_standards(file, filepath):\n",
    "                    # set self.processed_file to true for user feedback\n",
    "                    self.processed_file = True\n",
    "                    annotation = xu.open_xml_file(filepath)\n",
    "                    img_filepath = self.format_filepath(filepath)\n",
    "                    self.process_annotation(annotation, img_filepath)\n",
    "                    \n",
    "            # if we've processed a file in the given root dir, notify the\n",
    "            # user that the root directory has been processed\n",
    "            if self.processed_file:\n",
    "                print(\"Processed: \" + root)"
   ]
  },
  {
   "cell_type": "code",
   "execution_count": 3,
   "metadata": {
    "ExecuteTime": {
     "end_time": "2017-08-03T00:05:34.618598Z",
     "start_time": "2017-08-03T00:03:04.025035Z"
    }
   },
   "outputs": [
    {
     "name": "stdout",
     "output_type": "stream",
     "text": [
      "Processed: /Volumes/nyee/datasets/frcnn_data/D0232_04HD/xmls\n",
      "Processed: /Volumes/nyee/datasets/frcnn_data/D0673_04HD/xmls\n",
      "Processed: /Volumes/nyee/datasets/frcnn_data/D0443_05HD/xmls\n",
      "Processed: /Volumes/nyee/datasets/frcnn_data/D0904_D3HD/xmls\n",
      "Processed: /Volumes/nyee/datasets/frcnn_data/D0772_09HD/xmls\n",
      "Processed: /Volumes/nyee/datasets/frcnn_data/D008_03HD/xmls\n",
      "Processed: /Volumes/nyee/datasets/frcnn_data/D0442_06HD/xmls\n"
     ]
    }
   ],
   "source": [
    "train_annotator = SimpleAnnotator(c.TRAIN_VID_KEYS, c.ANN_PATH)\n",
    "train_annotator.process_files()"
   ]
  },
  {
   "cell_type": "code",
   "execution_count": 4,
   "metadata": {
    "ExecuteTime": {
     "end_time": "2017-08-03T00:06:22.750080Z",
     "start_time": "2017-08-03T00:05:34.621068Z"
    }
   },
   "outputs": [
    {
     "name": "stdout",
     "output_type": "stream",
     "text": [
      "Processed: /Volumes/nyee/datasets/frcnn_data/D0772_10HD/xmls\n",
      "Processed: /Volumes/nyee/datasets/frcnn_data/D0232_03HD/xmls\n"
     ]
    }
   ],
   "source": [
    "test_annotator = SimpleAnnotator(c.TEST_VID_KEYS, c.TEST_ANN_PATH)\n",
    "test_annotator.process_files()"
   ]
  },
  {
   "cell_type": "code",
   "execution_count": null,
   "metadata": {
    "collapsed": true
   },
   "outputs": [],
   "source": []
  }
 ],
 "metadata": {
  "kernelspec": {
   "display_name": "Environment (conda_video-processing)",
   "language": "python",
   "name": "conda_video-processing"
  },
  "language_info": {
   "codemirror_mode": {
    "name": "ipython",
    "version": 3
   },
   "file_extension": ".py",
   "mimetype": "text/x-python",
   "name": "python",
   "nbconvert_exporter": "python",
   "pygments_lexer": "ipython3",
   "version": "3.6.1"
  }
 },
 "nbformat": 4,
 "nbformat_minor": 2
}
