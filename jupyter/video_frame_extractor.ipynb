{
 "cells": [
  {
   "cell_type": "code",
   "execution_count": 1,
   "metadata": {
    "ExecuteTime": {
     "end_time": "2017-07-25T21:55:54.845290Z",
     "start_time": "2017-07-25T21:55:54.836245Z"
    },
    "collapsed": true
   },
   "outputs": [],
   "source": [
    "import sys, os\n",
    "sys.path.insert(0, os.path.abspath('..'))\n",
    "\n",
    "import tools.CONSTANTS as c\n",
    "import multiprocessing\n",
    "import subprocess"
   ]
  },
  {
   "cell_type": "code",
   "execution_count": 2,
   "metadata": {
    "ExecuteTime": {
     "end_time": "2017-07-25T21:55:55.065831Z",
     "start_time": "2017-07-25T21:55:54.850649Z"
    },
    "collapsed": true
   },
   "outputs": [],
   "source": [
    "class Extractor():\n",
    "    def __init__(self, video_name, increment=5):\n",
    "        \"\"\"\n",
    "        the Extractor class contains all the necessary information to extract\n",
    "        images from a video using ffmpeg. By default, it will extract a frame \n",
    "        every increment (5) seconds from the video\n",
    "        \n",
    "        :param video_name: name of the video\n",
    "        :type  video_name: string\n",
    "        :param increment: extract a frame every 'increment' seconds\n",
    "        :type  increment: int\n",
    "        \n",
    "        :Example:\n",
    "        \n",
    "        Extractor('D008_03HD', 5)\n",
    "        \"\"\"\n",
    "        self.video_name       = video_name\n",
    "        self.input_video_path = c.DIR_DICT[self.video_name][c.SRC_VID]\n",
    "        self.output_dir       = c.DIR_DICT[self.video_name][c.IMG_DIR]\n",
    "        self.seconds_counter  = 0\n",
    "        self.increment        = increment\n",
    "        self.video_length     = self.get_length()\n",
    "        \n",
    "    \n",
    "    def get_length(self):\n",
    "        \"\"\"\n",
    "        gets the length of a video in seconds using ffprobe\n",
    "        \n",
    "        :returns length: length of video in seconds found at self.input_video_path\n",
    "        :rtype   length: float\n",
    "        \"\"\"\n",
    "        shell_string = \"ffprobe -i {} -show_entries format=duration -v quiet -of csv='p=0'\".format(self.input_video_path)\n",
    "        result = subprocess.Popen(shell_string,\n",
    "                                  stdout=subprocess.PIPE,\n",
    "                                  stderr=subprocess.STDOUT,\n",
    "                                  shell=True)\n",
    "        length = result.communicate()[0]\n",
    "        length = float(length.decode().strip('\\n'))\n",
    "        return length\n",
    "    \n",
    "    \n",
    "    def get_timecode(self):\n",
    "        \"\"\" converts self.seconds_counter into hh:mm:ss \"\"\"\n",
    "        m, s = divmod(self.seconds_counter, 60)\n",
    "        h, m = divmod(m, 60)\n",
    "        return (\"%02d:%02d:%02d\" % (h, m, s))\n",
    "    \n",
    "    \n",
    "    def extract_img(self, output_path, timecode):\n",
    "        \"\"\"\n",
    "        extracts image from video at timecode and saves it to output_path\n",
    "        \n",
    "        :param output_path: absolute path of the output file\n",
    "        :param    timecode: time in format hh:mm:ss \n",
    "        :type output_path: string\n",
    "        :type    timecode: string\n",
    "        \n",
    "        :Example:\n",
    "        \n",
    "        self.extract_img('/Volumes/nyee/datasets/frcnn_data/D008_03HD/imgs/D008_03HD_00-11-40.png', '00:11:40')\n",
    "        \"\"\"\n",
    "        shell_string = 'ffmpeg -ss {} -i {} -frames:v 1 {}'.format(timecode,\n",
    "                                                                   self.input_video_path,\n",
    "                                                                   output_path)\n",
    "        subprocess.call(shell_string, shell=True)\n",
    "    \n",
    "    \n",
    "    def increment_seconds_counter(self):\n",
    "        \"\"\" increment self.seconds_counter by self.increment \"\"\"\n",
    "        self.seconds_counter += self.increment\n",
    "    \n",
    "    \n",
    "    def process_video(self):\n",
    "        \"\"\" extract all the frames from video_name specified in __init__ \"\"\"\n",
    "        try:\n",
    "            while self.seconds_counter < self.video_length:\n",
    "                timecode = self.get_timecode()\n",
    "                output_path = \"{}{}_{}{}\".format(self.output_dir,\n",
    "                                                 self.video_name,\n",
    "                                                 timecode.replace(':', '-'),\n",
    "                                                 c.IMG_EXT)\n",
    "\n",
    "                if not os.path.exists(output_path):\n",
    "                    self.extract_img(output_path, timecode)\n",
    "\n",
    "                self.increment_seconds_counter()\n",
    "            return True\n",
    "        except:\n",
    "            return False"
   ]
  },
  {
   "cell_type": "code",
   "execution_count": 3,
   "metadata": {
    "ExecuteTime": {
     "end_time": "2017-07-25T21:55:55.110070Z",
     "start_time": "2017-07-25T21:55:55.072716Z"
    },
    "collapsed": true,
    "scrolled": false
   },
   "outputs": [],
   "source": [
    "class Manager():\n",
    "    def __init__(self):\n",
    "        \"\"\"\n",
    "        initialize the manager. Note that we intentionally don't set pool as \n",
    "        an attribute here\n",
    "        \"\"\"\n",
    "        pass\n",
    "\n",
    "    def processes_video(self, video_name):\n",
    "        \"\"\"\n",
    "        processes a video given its the name of the video\n",
    "\n",
    "        :param video_name: the name of the video to be processed\n",
    "        :type  video_name: string\n",
    "\n",
    "        :returns result: True is success, False is exception\n",
    "        :rtype   result: Bool\n",
    "\n",
    "        :Example:\n",
    "        process_video('D008_03HD')\n",
    "        \"\"\"\n",
    "        print(\"Starting: \" + video_name)\n",
    "        extractor = Extractor(video_name)\n",
    "        result = extractor.process_video()\n",
    "        print(\"Finished: \" + video_name)\n",
    "        return result\n",
    "\n",
    "    def processes_videos(self):\n",
    "        \"\"\" process all videos \"\"\"\n",
    "        pool = multiprocessing.Pool(processes=multiprocessing.cpu_count() - 1)\n",
    "        self.results = pool.map(self.processes_video, c.VID_KEYS)"
   ]
  },
  {
   "cell_type": "code",
   "execution_count": 4,
   "metadata": {
    "ExecuteTime": {
     "end_time": "2017-07-25T21:55:55.122586Z",
     "start_time": "2017-07-25T21:55:55.116298Z"
    },
    "collapsed": true
   },
   "outputs": [],
   "source": [
    "manager = Manager()"
   ]
  },
  {
   "cell_type": "code",
   "execution_count": 5,
   "metadata": {
    "ExecuteTime": {
     "end_time": "2017-07-25T22:36:35.030310Z",
     "start_time": "2017-07-25T21:55:55.125394Z"
    }
   },
   "outputs": [
    {
     "name": "stdout",
     "output_type": "stream",
     "text": [
      "Starting: D008_03HD\n",
      "Starting: D0232_03HD\n",
      "Starting: D0232_04HD\n",
      "Finished: D0232_03HD\n",
      "Starting: D0442_06HD\n",
      "Finished: D0232_04HD\n",
      "Starting: D0443_05HD\n",
      "Finished: D008_03HD\n",
      "Starting: D0673_04HD\n",
      "Finished: D0673_04HD\n",
      "Starting: D0772_09HD\n",
      "Finished: D0442_06HD\n",
      "Starting: D0772_10HD\n",
      "Finished: D0443_05HD\n",
      "Starting: D0904_D3HD\n",
      "Finished: D0772_09HD\n",
      "Finished: D0772_10HD\n",
      "Finished: D0904_D3HD\n"
     ]
    }
   ],
   "source": [
    "manager.processes_videos()"
   ]
  },
  {
   "cell_type": "code",
   "execution_count": null,
   "metadata": {
    "collapsed": true
   },
   "outputs": [],
   "source": []
  }
 ],
 "metadata": {
  "kernelspec": {
   "display_name": "Environment (conda_video-processing)",
   "language": "python",
   "name": "conda_video-processing"
  },
  "language_info": {
   "codemirror_mode": {
    "name": "ipython",
    "version": 3
   },
   "file_extension": ".py",
   "mimetype": "text/x-python",
   "name": "python",
   "nbconvert_exporter": "python",
   "pygments_lexer": "ipython3",
   "version": "3.6.1"
  }
 },
 "nbformat": 4,
 "nbformat_minor": 2
}
