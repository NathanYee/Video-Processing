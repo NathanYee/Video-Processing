{
 "cells": [
  {
   "cell_type": "code",
   "execution_count": 1,
   "metadata": {
    "ExecuteTime": {
     "end_time": "2017-08-09T22:43:12.532538Z",
     "start_time": "2017-08-09T22:43:12.020759Z"
    },
    "collapsed": true
   },
   "outputs": [],
   "source": [
    "import sys, os\n",
    "sys.path.insert(0, os.path.abspath('..'))\n",
    "\n",
    "import tools.CONSTANTS as c\n",
    "import tools.IMAGEUTILS as im\n",
    "import tools.XMLUTILS as xu\n",
    "import numpy as np"
   ]
  },
  {
   "cell_type": "code",
   "execution_count": 2,
   "metadata": {
    "ExecuteTime": {
     "end_time": "2017-08-09T22:43:12.765236Z",
     "start_time": "2017-08-09T22:43:12.535465Z"
    },
    "collapsed": true
   },
   "outputs": [],
   "source": [
    "class Cropper():\n",
    "    \"\"\"\n",
    "    crops out the animals using the ground truth xml files\n",
    "    \"\"\"\n",
    "\n",
    "    def __init__(self, allowed_dirs):\n",
    "        \"\"\"\n",
    "        initializes the MeanFinder, assigning allowed_dirs to an attribute\n",
    "        \n",
    "        :param allowed_dirs: the target directories that will be used\n",
    "        :type  allowed_dirs: list of strings\n",
    "        \"\"\"\n",
    "        self.allowed_dirs = allowed_dirs\n",
    "            \n",
    "        \n",
    "    def file_standards(self, file, filepath):\n",
    "        \"\"\"\n",
    "        checks to make sure that the file should be processed further. In\n",
    "        this case:\n",
    "        \n",
    "        The file must be an xml file\n",
    "        The filepath must not be from xml_preds\n",
    "        One of the allowed directory names must be in the filepath\n",
    "        \n",
    "        :param file: the name of the file\n",
    "        :type  file: string\n",
    "        :param filepath: the full filepath of the file\n",
    "        :type  filepath: string\n",
    "        \n",
    "        :returns: whether or not the file/filepath should be included\n",
    "        :rtype  : bool\n",
    "        \"\"\"\n",
    "        is_xml   = bool(file[-4:] == c.XML_EXT)\n",
    "        not_pred = bool('xml_preds' not in filepath)\n",
    "        allowed_dir = any([dir_ in filepath for dir_ in self.allowed_dirs])\n",
    "        return (all([is_xml, not_pred, allowed_dir]))\n",
    "        \n",
    "    \n",
    "    def format_filepath(self, filepath):\n",
    "        \"\"\"\n",
    "        format the filepath for the other computer. We also change make the\n",
    "        change from xml file to img file\n",
    "        \n",
    "        :returns: the formatted filepath\n",
    "        :rtype  : string\n",
    "        \"\"\"\n",
    "        return filepath.replace('xmls', 'imgs').replace(c.XML_EXT, c.IMG_EXT)\n",
    "    \n",
    "    \n",
    "    def extract_rects(self, annotation):\n",
    "        \"\"\"\n",
    "        Extracts and returns the corners of the bounding boxes in a list called rects\n",
    "\n",
    "        :param annotation: a pascal VOC XML annotation\n",
    "        \n",
    "        :returns rects: the list containing the corners of the bounding boxes\n",
    "        :returns names: the names (classes) of the annotated objects\n",
    "        \"\"\"\n",
    "        objects = [element for element in list(annotation) if element.tag == 'object']\n",
    "\n",
    "        rects = []\n",
    "        names = []\n",
    "        for object_ in objects:\n",
    "            for item in list(object_):\n",
    "                if item.tag == 'bndbox':\n",
    "                    corners = {}\n",
    "                    for corner in list(item):\n",
    "                        corners[corner.tag] = int(corner.text)\n",
    "                    rects.append([(corners['xmin'], corners['ymin']), (corners['xmax'], corners['ymax'])])\n",
    "                if item.tag == 'name':\n",
    "                    names.append(item.text)\n",
    "        return rects, names\n",
    "        \n",
    "    def crop_image(self, img, rect):\n",
    "        \"\"\"\n",
    "        draws the rects and names onto an image\n",
    "        \n",
    "        :param img: image data\n",
    "        :param rect: the rectangle that should be cropped\n",
    "        :returns image_crop: the cropped image data\n",
    "        \"\"\"\n",
    "        img_crop = img[rect[0][1]:rect[1][1], rect[0][0]:rect[1][0]]\n",
    "        return img_crop\n",
    "    \n",
    "    def process_file_filepath(self, file, filepath):\n",
    "        \"\"\"\n",
    "        Checks whether or not to process the file and filepath, if so, crop \n",
    "        the animals out of the image at filepath and save them to the correct\n",
    "        directories\n",
    "        \n",
    "        :param file: the name of the file\n",
    "        :param filepath: the filepath of the file\n",
    "        \"\"\"\n",
    "        # check if image should be included in self.file_standards\n",
    "        if self.file_standards(file, filepath):\n",
    "            annotation = xu.open_xml_file(filepath)\n",
    "            rects, names = self.extract_rects(annotation)\n",
    "            img_filepath = self.format_filepath(filepath)\n",
    "            img = im.imread(img_filepath)\n",
    "\n",
    "            counter = 0\n",
    "            for rect, name in zip(rects, names):\n",
    "                img_crop = self.crop_image(img, rect)\n",
    "                directory = os.path.join(c.CROP_DIR, name)\n",
    "                filename = file.replace(c.XML_EXT, \"_{}{}\".format(counter, c.IMG_EXT))\n",
    "                im.imsave(os.path.join(directory, filename), img_crop)\n",
    "                counter += 1\n",
    "        \n",
    "    def process_files(self):\n",
    "        \"\"\" walk through all files and create simple annotation \"\"\"\n",
    "        # first clear old annotations as we will be replacing them\n",
    "        for root, dirs, files in os.walk(c.BASE_DIR):\n",
    "            self.processed_file = False\n",
    "            for file in sorted(files):\n",
    "                filepath = os.path.join(root, file)\n",
    "                self.process_file_filepath(file, filepath)\n"
   ]
  },
  {
   "cell_type": "code",
   "execution_count": 3,
   "metadata": {
    "ExecuteTime": {
     "end_time": "2017-08-09T22:51:13.283641Z",
     "start_time": "2017-08-09T22:43:12.767132Z"
    },
    "collapsed": true
   },
   "outputs": [],
   "source": [
    "cropper = Cropper(c.VID_KEYS)\n",
    "cropper.process_files()"
   ]
  },
  {
   "cell_type": "code",
   "execution_count": null,
   "metadata": {
    "collapsed": true
   },
   "outputs": [],
   "source": []
  }
 ],
 "metadata": {
  "kernelspec": {
   "display_name": "Environment (conda_video-processing)",
   "language": "python",
   "name": "conda_video-processing"
  },
  "language_info": {
   "codemirror_mode": {
    "name": "ipython",
    "version": 3
   },
   "file_extension": ".py",
   "mimetype": "text/x-python",
   "name": "python",
   "nbconvert_exporter": "python",
   "pygments_lexer": "ipython3",
   "version": "3.6.1"
  }
 },
 "nbformat": 4,
 "nbformat_minor": 2
}
